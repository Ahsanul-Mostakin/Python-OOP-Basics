{
 "cells": [
  {
   "cell_type": "code",
   "execution_count": 1,
   "id": "88175617-2e81-4db8-88fa-cb38b0492d15",
   "metadata": {},
   "outputs": [],
   "source": [
    "class Student:\n",
    "    def __init__(self, name, roll_num, marks):\n",
    "        self.name = name\n",
    "        self.roll_num = roll_num\n",
    "        self.marks = marks"
   ]
  },
  {
   "cell_type": "code",
   "execution_count": 3,
   "id": "446ff1b7-747c-4234-af21-c2f75928e81e",
   "metadata": {},
   "outputs": [],
   "source": [
    "student1 = Student('Sohail', 12345, 500)"
   ]
  },
  {
   "cell_type": "code",
   "execution_count": 5,
   "id": "2dcb32c4-18ef-49db-b7bd-f714e5fc8d6b",
   "metadata": {},
   "outputs": [
    {
     "data": {
      "text/plain": [
       "500"
      ]
     },
     "execution_count": 5,
     "metadata": {},
     "output_type": "execute_result"
    }
   ],
   "source": [
    "student1.marks"
   ]
  },
  {
   "cell_type": "code",
   "execution_count": 7,
   "id": "5654d852-929f-45b0-9891-821143a0f004",
   "metadata": {},
   "outputs": [],
   "source": [
    "student2 = Student('Usama', 12345, 700)"
   ]
  },
  {
   "cell_type": "code",
   "execution_count": 9,
   "id": "8a9d45b2-4058-42fe-b6b5-9d7961af4bd3",
   "metadata": {},
   "outputs": [
    {
     "name": "stdout",
     "output_type": "stream",
     "text": [
      "700\n"
     ]
    }
   ],
   "source": [
    "print(student2.marks)"
   ]
  },
  {
   "cell_type": "code",
   "execution_count": null,
   "id": "f4d10923-d9f1-4d36-8f8a-3a993b978957",
   "metadata": {},
   "outputs": [],
   "source": []
  }
 ],
 "metadata": {
  "kernelspec": {
   "display_name": "Python 3 (ipykernel)",
   "language": "python",
   "name": "python3"
  },
  "language_info": {
   "codemirror_mode": {
    "name": "ipython",
    "version": 3
   },
   "file_extension": ".py",
   "mimetype": "text/x-python",
   "name": "python",
   "nbconvert_exporter": "python",
   "pygments_lexer": "ipython3",
   "version": "3.12.4"
  }
 },
 "nbformat": 4,
 "nbformat_minor": 5
}
