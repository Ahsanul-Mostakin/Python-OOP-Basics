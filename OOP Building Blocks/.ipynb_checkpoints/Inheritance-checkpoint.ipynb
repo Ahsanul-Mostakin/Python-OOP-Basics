{
 "cells": [
  {
   "cell_type": "code",
   "execution_count": 5,
   "id": "11b83498-5400-431f-b1fe-361024dcdfbb",
   "metadata": {},
   "outputs": [],
   "source": [
    "class Phone:  # Base Class / Parent Class\n",
    "    def __init__(self, brand, model_name, price):\n",
    "        self.brand = brand\n",
    "        self.model_name = model_name\n",
    "        self.price = max(price, 0)\n",
    "\n",
    "    @staticmethod\n",
    "    def make_a_call(phone_num):\n",
    "        print(f\"Calling {phone_num}...\")\n",
    "\n",
    "    def full_name(self):\n",
    "        return f\"{self.brand} {self.model_name}\"\n",
    "\n"
   ]
  },
  {
   "cell_type": "code",
   "execution_count": 7,
   "id": "9e8fab6d-7ee6-4f48-ab90-4e2021c7f001",
   "metadata": {},
   "outputs": [],
   "source": [
    "\n",
    "class SmartPhone(Phone):  # Derived Class / Child Class\n",
    "    def __init__(self, brand, model_name, price, ram, internal_memory, rare_camera):\n",
    "        super().__init__(brand, model_name, price)\n",
    "        self.ram = ram\n",
    "        self.internal_memory = internal_memory\n",
    "        self.rare_camera = rare_camera"
   ]
  },
  {
   "cell_type": "code",
   "execution_count": 9,
   "id": "b565e9a6-75cb-4a6a-bfd6-03960f5a2f35",
   "metadata": {},
   "outputs": [],
   "source": [
    "Phone1 = Phone('Nokia', '1100', 4000)"
   ]
  },
  {
   "cell_type": "code",
   "execution_count": 11,
   "id": "4766497c-8a00-4b93-910b-04fe458fa912",
   "metadata": {},
   "outputs": [],
   "source": [
    "SmartPhone1 = SmartPhone(\"Samsung\", \"A7\", 60000, \"4GB\", \"128GB\", \"25MP\")\n"
   ]
  },
  {
   "cell_type": "code",
   "execution_count": 13,
   "id": "208c6a13-5e9d-4554-be8c-a4a0d2338791",
   "metadata": {},
   "outputs": [
    {
     "name": "stdout",
     "output_type": "stream",
     "text": [
      "4000\n",
      "Nokia 1100\n"
     ]
    }
   ],
   "source": [
    "print(Phone1.price)\n",
    "print(Phone1.full_name())"
   ]
  },
  {
   "cell_type": "code",
   "execution_count": 15,
   "id": "bf2e261f-6ea6-4622-a1ea-0555bf1b3a65",
   "metadata": {},
   "outputs": [
    {
     "name": "stdout",
     "output_type": "stream",
     "text": [
      "60000\n",
      "Samsung A7\n"
     ]
    }
   ],
   "source": [
    "print(SmartPhone1.price)\n",
    "print(SmartPhone1.full_name())"
   ]
  },
  {
   "cell_type": "code",
   "execution_count": null,
   "id": "48ed815c-0e67-4e57-a31a-ced7793b19e5",
   "metadata": {},
   "outputs": [],
   "source": []
  }
 ],
 "metadata": {
  "kernelspec": {
   "display_name": "Python 3 (ipykernel)",
   "language": "python",
   "name": "python3"
  },
  "language_info": {
   "codemirror_mode": {
    "name": "ipython",
    "version": 3
   },
   "file_extension": ".py",
   "mimetype": "text/x-python",
   "name": "python",
   "nbconvert_exporter": "python",
   "pygments_lexer": "ipython3",
   "version": "3.12.4"
  }
 },
 "nbformat": 4,
 "nbformat_minor": 5
}
