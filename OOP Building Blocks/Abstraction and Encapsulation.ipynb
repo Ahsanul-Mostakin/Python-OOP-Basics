{
 "cells": [
  {
   "cell_type": "code",
   "execution_count": 1,
   "id": "d4df00d5-f56a-4380-9155-0ebfea768d31",
   "metadata": {},
   "outputs": [],
   "source": [
    "class Phone:\n",
    "    def __init__(self, brand, model_name, price):\n",
    "        self.brand = brand\n",
    "        self.model_name = model_name\n",
    "        self.price = price\n",
    "\n",
    "    @staticmethod\n",
    "    def make_a_call(phone_num):\n",
    "        print(f\"calling {phone_num}...\")\n",
    "\n",
    "    def full_name(self):\n",
    "        return f\"{self.brand} {self.model_name}\"\n"
   ]
  },
  {
   "cell_type": "code",
   "execution_count": 3,
   "id": "957e5a85-33c1-4d35-8cd4-0eb366d5e64b",
   "metadata": {},
   "outputs": [],
   "source": [
    "phone1 = Phone('Nokia', '1100', 4000)"
   ]
  },
  {
   "cell_type": "code",
   "execution_count": 5,
   "id": "f6ae7ab7-26d6-42b6-b7b1-9fdcbb70d5a8",
   "metadata": {},
   "outputs": [
    {
     "name": "stdout",
     "output_type": "stream",
     "text": [
      "{'brand': 'Nokia', 'model_name': '1100', 'price': 4000}\n"
     ]
    }
   ],
   "source": [
    "print(phone1.__dict__)"
   ]
  },
  {
   "cell_type": "code",
   "execution_count": 7,
   "id": "fc84c6cf-c7e5-4739-b67c-7925a3e1dbed",
   "metadata": {},
   "outputs": [
    {
     "name": "stdout",
     "output_type": "stream",
     "text": [
      "calling 090078601...\n"
     ]
    }
   ],
   "source": [
    "phone1.make_a_call('090078601')"
   ]
  },
  {
   "cell_type": "code",
   "execution_count": null,
   "id": "50059ac6-92ef-4eb0-abba-efceb9b316fd",
   "metadata": {},
   "outputs": [],
   "source": []
  }
 ],
 "metadata": {
  "kernelspec": {
   "display_name": "Python 3 (ipykernel)",
   "language": "python",
   "name": "python3"
  },
  "language_info": {
   "codemirror_mode": {
    "name": "ipython",
    "version": 3
   },
   "file_extension": ".py",
   "mimetype": "text/x-python",
   "name": "python",
   "nbconvert_exporter": "python",
   "pygments_lexer": "ipython3",
   "version": "3.12.4"
  }
 },
 "nbformat": 4,
 "nbformat_minor": 5
}
