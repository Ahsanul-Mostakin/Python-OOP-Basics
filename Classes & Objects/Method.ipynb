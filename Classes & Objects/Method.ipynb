{
 "cells": [
  {
   "cell_type": "code",
   "execution_count": 4,
   "id": "8dde479f-a337-4128-9610-42c2a4bbf958",
   "metadata": {},
   "outputs": [],
   "source": [
    "class Student:\n",
    "    def __init__(self, name, age, marks):\n",
    "        self.name = name\n",
    "        self.age = age\n",
    "        self.marks = marks\n",
    "\n",
    "    def result(self):\n",
    "        if self.marks >= 500:\n",
    "            return 'Pass'\n",
    "        else:\n",
    "            return 'Fail'\n",
    "\n"
   ]
  },
  {
   "cell_type": "code",
   "execution_count": 6,
   "id": "79d7ab7b-0e5b-4996-bb03-0085f510e4ae",
   "metadata": {},
   "outputs": [],
   "source": [
    "s1 = Student('Sohail', 24, 500)"
   ]
  },
  {
   "cell_type": "code",
   "execution_count": 8,
   "id": "816026c6-7a99-465e-9e55-0b68252ea9e3",
   "metadata": {},
   "outputs": [
    {
     "name": "stdout",
     "output_type": "stream",
     "text": [
      "Pass\n"
     ]
    }
   ],
   "source": [
    "print(s1.result())"
   ]
  },
  {
   "cell_type": "code",
   "execution_count": null,
   "id": "f37a85b4-8b88-42bf-9107-da3b04ffc016",
   "metadata": {},
   "outputs": [],
   "source": []
  }
 ],
 "metadata": {
  "kernelspec": {
   "display_name": "Python 3 (ipykernel)",
   "language": "python",
   "name": "python3"
  },
  "language_info": {
   "codemirror_mode": {
    "name": "ipython",
    "version": 3
   },
   "file_extension": ".py",
   "mimetype": "text/x-python",
   "name": "python",
   "nbconvert_exporter": "python",
   "pygments_lexer": "ipython3",
   "version": "3.12.4"
  }
 },
 "nbformat": 4,
 "nbformat_minor": 5
}
