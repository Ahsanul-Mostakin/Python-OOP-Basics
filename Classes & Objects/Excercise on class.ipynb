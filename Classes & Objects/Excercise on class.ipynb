{
 "cells": [
  {
   "cell_type": "code",
   "execution_count": 36,
   "id": "033f1f86-6815-47e8-bd75-9aa6e5b92adc",
   "metadata": {},
   "outputs": [],
   "source": [
    "class Product:\n",
    "    def __init__(self, product_name, brand_name, model_name, price):\n",
    "        self.product_name = product_name\n",
    "        self.brand_name = brand_name\n",
    "        self.model_name = model_name\n",
    "        self.price = price\n",
    "        self.productNamewithModelName = product_name + \" \" + model_name\n"
   ]
  },
  {
   "cell_type": "code",
   "execution_count": 38,
   "id": "8b0f0a12-8a94-4623-91d8-a0bdfef31d07",
   "metadata": {},
   "outputs": [],
   "source": [
    "laptop = Product('Laptop', 'Dell', 'm4800', 55000)"
   ]
  },
  {
   "cell_type": "code",
   "execution_count": 40,
   "id": "bd0b6669-bb6d-485a-bbd2-f8ccba5afeef",
   "metadata": {},
   "outputs": [],
   "source": [
    "mobile = Product('Mobile', 'Samsung', 'A7', 50000)"
   ]
  },
  {
   "cell_type": "code",
   "execution_count": 42,
   "id": "28a292b2-6c14-485d-80c4-eb9dacc087d9",
   "metadata": {},
   "outputs": [
    {
     "name": "stdout",
     "output_type": "stream",
     "text": [
      "m4800\n"
     ]
    }
   ],
   "source": [
    "print(laptop.model_name)"
   ]
  },
  {
   "cell_type": "code",
   "execution_count": 44,
   "id": "8c074690-8ba3-470c-842f-99507cf56de7",
   "metadata": {},
   "outputs": [
    {
     "name": "stdout",
     "output_type": "stream",
     "text": [
      "A7\n"
     ]
    }
   ],
   "source": [
    "print(mobile.model_name)"
   ]
  },
  {
   "cell_type": "code",
   "execution_count": 58,
   "id": "b906c1a9-18d2-4b63-9be3-e92ec4905caa",
   "metadata": {},
   "outputs": [
    {
     "data": {
      "text/plain": [
       "'Mobile A7'"
      ]
     },
     "execution_count": 58,
     "metadata": {},
     "output_type": "execute_result"
    }
   ],
   "source": [
    "mobile.productNamewithModelName"
   ]
  },
  {
   "cell_type": "code",
   "execution_count": 60,
   "id": "ce220e4f-8889-4e42-876b-c6c34acc9b20",
   "metadata": {},
   "outputs": [
    {
     "data": {
      "text/plain": [
       "'Laptop m4800'"
      ]
     },
     "execution_count": 60,
     "metadata": {},
     "output_type": "execute_result"
    }
   ],
   "source": [
    "laptop.productNamewithModelName"
   ]
  },
  {
   "cell_type": "code",
   "execution_count": null,
   "id": "e6ed7300-3c18-4297-88c5-527e5f27d5ae",
   "metadata": {},
   "outputs": [],
   "source": []
  }
 ],
 "metadata": {
  "kernelspec": {
   "display_name": "Python 3 (ipykernel)",
   "language": "python",
   "name": "python3"
  },
  "language_info": {
   "codemirror_mode": {
    "name": "ipython",
    "version": 3
   },
   "file_extension": ".py",
   "mimetype": "text/x-python",
   "name": "python",
   "nbconvert_exporter": "python",
   "pygments_lexer": "ipython3",
   "version": "3.12.4"
  }
 },
 "nbformat": 4,
 "nbformat_minor": 5
}
