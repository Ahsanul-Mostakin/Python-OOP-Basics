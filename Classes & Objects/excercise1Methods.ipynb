{
 "cells": [
  {
   "cell_type": "code",
   "execution_count": 1,
   "id": "49b90ceb-4753-4abc-bb91-6de13268fa09",
   "metadata": {},
   "outputs": [
    {
     "name": "stdout",
     "output_type": "stream",
     "text": [
      "Sohail\n"
     ]
    }
   ],
   "source": [
    "class Student:\n",
    "    def __init__(self, name, marks):\n",
    "        self.name = name\n",
    "        self.marks = marks\n",
    "\n",
    "    def result(self):\n",
    "        if self.marks >= 500:\n",
    "            return 'Pass'\n",
    "        else:\n",
    "            return 'Fail'\n",
    "\n",
    "s1 = Student('Sohail', 400)\n",
    "\n",
    "print(s1.name)"
   ]
  },
  {
   "cell_type": "code",
   "execution_count": 3,
   "id": "f97724f7-cae6-4597-a939-cffff29d0413",
   "metadata": {},
   "outputs": [],
   "source": [
    "s1 = Student('Sohail', 400)\n",
    "s2 = Student('Usama', 600)\n",
    "s3 = Student('Shakeel', 700)\n",
    "s4 = Student('Ali', 300)\n",
    "s5 = Student('Usman', 500)\n",
    "s6 = Student('Mehar', 600)\n",
    "\n",
    "student_objects = [s1, s2, s3, s4, s5, s6]"
   ]
  },
  {
   "cell_type": "code",
   "execution_count": 7,
   "id": "3471bac8-9efa-404b-b4a6-2fb164f084d5",
   "metadata": {},
   "outputs": [],
   "source": [
    "passStudents = []\n",
    "failStudents = []\n",
    "\n",
    "students_result = {}\n",
    "\n",
    "for x in student_objects:\n",
    "    if x.result() == 'Pass':\n",
    "        passStudents.append(x.name)\n",
    "        students_result['Pass Students'] = passStudents\n",
    "    else:\n",
    "        failStudents.append(x.name)\n",
    "        students_result['Fail Students'] = failStudents"
   ]
  },
  {
   "cell_type": "code",
   "execution_count": 11,
   "id": "7a112479-733c-41f7-8982-88e837d4f099",
   "metadata": {},
   "outputs": [
    {
     "data": {
      "text/plain": [
       "{'Fail Students': ['Sohail', 'Ali'],\n",
       " 'Pass Students': ['Usama', 'Shakeel', 'Usman', 'Mehar']}"
      ]
     },
     "execution_count": 11,
     "metadata": {},
     "output_type": "execute_result"
    }
   ],
   "source": [
    "students_result"
   ]
  },
  {
   "cell_type": "code",
   "execution_count": null,
   "id": "aeeda1e3-6709-474f-acab-281b41f544d3",
   "metadata": {},
   "outputs": [],
   "source": []
  }
 ],
 "metadata": {
  "kernelspec": {
   "display_name": "Python 3 (ipykernel)",
   "language": "python",
   "name": "python3"
  },
  "language_info": {
   "codemirror_mode": {
    "name": "ipython",
    "version": 3
   },
   "file_extension": ".py",
   "mimetype": "text/x-python",
   "name": "python",
   "nbconvert_exporter": "python",
   "pygments_lexer": "ipython3",
   "version": "3.12.4"
  }
 },
 "nbformat": 4,
 "nbformat_minor": 5
}
