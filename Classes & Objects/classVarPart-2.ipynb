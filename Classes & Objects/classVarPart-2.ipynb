{
 "cells": [
  {
   "cell_type": "code",
   "execution_count": 2,
   "id": "3cc507dc-804e-49d2-b760-e53f9e355561",
   "metadata": {},
   "outputs": [],
   "source": [
    "class Laptop:\n",
    "    discount = 10\n",
    "\n",
    "    def __init__(self, name, price):\n",
    "        self.name = name\n",
    "        self.price = price\n",
    "\n",
    "    def applyDiscount(self):\n",
    "        discount_amount = (self.price / 100) * Laptop.discount\n",
    "        final_amount = self.price - discount_amount\n",
    "        return final_amount"
   ]
  },
  {
   "cell_type": "code",
   "execution_count": 4,
   "id": "5864cf6f-aa06-4920-9166-b1609ab728ba",
   "metadata": {},
   "outputs": [],
   "source": [
    "m6600 = Laptop('m6600', 55000)\n",
    "m4800 = Laptop('m4800', 55000)"
   ]
  },
  {
   "cell_type": "code",
   "execution_count": 6,
   "id": "aaac8246-0f43-42ce-bb59-d0978228d5e2",
   "metadata": {},
   "outputs": [
    {
     "name": "stdout",
     "output_type": "stream",
     "text": [
      "{'name': 'm4800', 'price': 55000}\n"
     ]
    }
   ],
   "source": [
    "print(m4800.__dict__)"
   ]
  },
  {
   "cell_type": "code",
   "execution_count": 8,
   "id": "60e64c70-1fb5-4f81-a5b1-70309df7f038",
   "metadata": {},
   "outputs": [],
   "source": [
    "m4800.bluetooth = 'yes'"
   ]
  },
  {
   "cell_type": "code",
   "execution_count": 10,
   "id": "ebf15d38-3831-4bfe-a346-96a21c18f6c9",
   "metadata": {},
   "outputs": [
    {
     "name": "stdout",
     "output_type": "stream",
     "text": [
      "{'name': 'm4800', 'price': 55000, 'bluetooth': 'yes'}\n"
     ]
    }
   ],
   "source": [
    "print(m4800.__dict__)"
   ]
  },
  {
   "cell_type": "code",
   "execution_count": 12,
   "id": "4f68b738-545c-4e8a-94ba-0f94108543a7",
   "metadata": {},
   "outputs": [
    {
     "name": "stdout",
     "output_type": "stream",
     "text": [
      "49500.0\n"
     ]
    }
   ],
   "source": [
    "print(m6600.applyDiscount())"
   ]
  },
  {
   "cell_type": "code",
   "execution_count": 14,
   "id": "8b65e748-900e-4e8f-99b0-c80286eda828",
   "metadata": {},
   "outputs": [
    {
     "name": "stdout",
     "output_type": "stream",
     "text": [
      "{'name': 'm4800', 'price': 55000, 'bluetooth': 'yes'}\n",
      "{'name': 'm6600', 'price': 55000}\n"
     ]
    }
   ],
   "source": [
    "print(m4800.__dict__)\n",
    "print(m6600.__dict__)"
   ]
  },
  {
   "cell_type": "code",
   "execution_count": 16,
   "id": "d8f0da78-5319-4239-9399-00a775190165",
   "metadata": {},
   "outputs": [
    {
     "name": "stdout",
     "output_type": "stream",
     "text": [
      "49500.0\n",
      "49500.0\n"
     ]
    }
   ],
   "source": [
    "print(m6600.applyDiscount())\n",
    "print(m4800.applyDiscount())"
   ]
  },
  {
   "cell_type": "code",
   "execution_count": null,
   "id": "01ef69d4-838c-40f9-9221-274a3f613933",
   "metadata": {},
   "outputs": [],
   "source": []
  }
 ],
 "metadata": {
  "kernelspec": {
   "display_name": "Python 3 (ipykernel)",
   "language": "python",
   "name": "python3"
  },
  "language_info": {
   "codemirror_mode": {
    "name": "ipython",
    "version": 3
   },
   "file_extension": ".py",
   "mimetype": "text/x-python",
   "name": "python",
   "nbconvert_exporter": "python",
   "pygments_lexer": "ipython3",
   "version": "3.12.4"
  }
 },
 "nbformat": 4,
 "nbformat_minor": 5
}
