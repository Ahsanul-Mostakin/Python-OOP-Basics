{
 "cells": [
  {
   "cell_type": "code",
   "execution_count": 1,
   "id": "8fab389c-ff1e-49c0-89d3-9f316c2e4f42",
   "metadata": {},
   "outputs": [],
   "source": [
    "class Student:\n",
    "    total_marks = 1000\n",
    "\n",
    "    def __init__(self, name, age, marks):\n",
    "        self.name = name\n",
    "        self.age = age\n",
    "        self.marks = marks\n",
    "        self.total_marks = Student.total_marks\n"
   ]
  },
  {
   "cell_type": "code",
   "execution_count": 3,
   "id": "f8f38ea5-0801-495e-8597-8a457293fe41",
   "metadata": {},
   "outputs": [],
   "source": [
    "s1 = Student('Sohail', '24', 500)\n",
    "s1 = Student('Usama', '25', 555)\n",
    "s1 = Student('Shakeel', '26', 545)\n",
    "s1 = Student('Mehar', '27', 654)\n",
    "s1 = Student('Usman', '28', 754)\n",
    "s1 = Student('Rizwan', '24', 723)"
   ]
  },
  {
   "cell_type": "code",
   "execution_count": 7,
   "id": "3f6784e6-1368-49d8-b7d1-ddbfb83bc6a4",
   "metadata": {},
   "outputs": [
    {
     "data": {
      "text/plain": [
       "1000"
      ]
     },
     "execution_count": 7,
     "metadata": {},
     "output_type": "execute_result"
    }
   ],
   "source": [
    "s1.total_marks"
   ]
  },
  {
   "cell_type": "code",
   "execution_count": null,
   "id": "61070090-cd19-4e83-aa95-010c3214cb1b",
   "metadata": {},
   "outputs": [],
   "source": []
  }
 ],
 "metadata": {
  "kernelspec": {
   "display_name": "Python 3 (ipykernel)",
   "language": "python",
   "name": "python3"
  },
  "language_info": {
   "codemirror_mode": {
    "name": "ipython",
    "version": 3
   },
   "file_extension": ".py",
   "mimetype": "text/x-python",
   "name": "python",
   "nbconvert_exporter": "python",
   "pygments_lexer": "ipython3",
   "version": "3.12.4"
  }
 },
 "nbformat": 4,
 "nbformat_minor": 5
}
