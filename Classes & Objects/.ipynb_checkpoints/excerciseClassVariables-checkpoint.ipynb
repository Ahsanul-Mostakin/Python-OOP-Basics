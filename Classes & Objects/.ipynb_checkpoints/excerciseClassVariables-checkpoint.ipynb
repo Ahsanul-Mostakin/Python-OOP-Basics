{
 "cells": [
  {
   "cell_type": "code",
   "execution_count": 1,
   "id": "876afe2f-60cc-41d2-86dc-8fb0e7fff2c7",
   "metadata": {},
   "outputs": [],
   "source": [
    "class Circle:\n",
    "    def __init__(self, radius, pai):\n",
    "        self.radius = radius\n",
    "        self.pai = pai\n",
    "\n",
    "    def circle_circumference(self):\n",
    "        value_of_circle_circumference = 2 * self.pai * self.radius\n",
    "        return value_of_circle_circumference\n",
    "\n",
    "    def circle_Area(self):\n",
    "        area = self.pai * self.radius**2\n",
    "        return area\n",
    "\n"
   ]
  },
  {
   "cell_type": "code",
   "execution_count": 3,
   "id": "78cde29f-8417-451f-9604-f0e886904a35",
   "metadata": {},
   "outputs": [],
   "source": [
    "c1 = Circle(23, 3.14)\n",
    "c2 = Circle(24, 3.14)"
   ]
  },
  {
   "cell_type": "code",
   "execution_count": 5,
   "id": "bb61e4e1-4582-470c-ada7-5e30d1394224",
   "metadata": {},
   "outputs": [
    {
     "name": "stdout",
     "output_type": "stream",
     "text": [
      "150.72\n"
     ]
    }
   ],
   "source": [
    "print(c2.circle_circumference())"
   ]
  },
  {
   "cell_type": "code",
   "execution_count": 9,
   "id": "6c8fa28d-6244-4b4f-9432-c1acd9afeb4f",
   "metadata": {},
   "outputs": [
    {
     "data": {
      "text/plain": [
       "1661.0600000000002"
      ]
     },
     "execution_count": 9,
     "metadata": {},
     "output_type": "execute_result"
    }
   ],
   "source": [
    "c1.circle_Area()"
   ]
  },
  {
   "cell_type": "code",
   "execution_count": null,
   "id": "ffb4e13f-0643-4074-ac4c-0c158070cb8b",
   "metadata": {},
   "outputs": [],
   "source": []
  }
 ],
 "metadata": {
  "kernelspec": {
   "display_name": "Python 3 (ipykernel)",
   "language": "python",
   "name": "python3"
  },
  "language_info": {
   "codemirror_mode": {
    "name": "ipython",
    "version": 3
   },
   "file_extension": ".py",
   "mimetype": "text/x-python",
   "name": "python",
   "nbconvert_exporter": "python",
   "pygments_lexer": "ipython3",
   "version": "3.12.4"
  }
 },
 "nbformat": 4,
 "nbformat_minor": 5
}
