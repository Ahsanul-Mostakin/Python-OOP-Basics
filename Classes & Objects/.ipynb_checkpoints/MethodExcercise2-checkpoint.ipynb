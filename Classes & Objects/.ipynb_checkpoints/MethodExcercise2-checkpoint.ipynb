{
 "cells": [
  {
   "cell_type": "code",
   "execution_count": 1,
   "id": "1fc4c2ba-15d1-44bd-91a1-6500b66cdf77",
   "metadata": {},
   "outputs": [],
   "source": [
    "class Product:\n",
    "    def __init__(self, productName, price):\n",
    "        self.productName = productName\n",
    "        self.price = price\n",
    "\n",
    "    def discount(self, discountValue):\n",
    "        discountAmount = (self.price / 100) * discountValue\n",
    "        final_price = self.price - discountAmount\n",
    "        return final_price\n"
   ]
  },
  {
   "cell_type": "code",
   "execution_count": 3,
   "id": "ccbdae9d-0d10-4aac-967c-1ab12a1ca3a4",
   "metadata": {},
   "outputs": [],
   "source": [
    "laptop = Product(\"Laptop\", 55000)"
   ]
  },
  {
   "cell_type": "code",
   "execution_count": 5,
   "id": "c0a17bd9-ddc6-4838-8dff-1dd207e56054",
   "metadata": {},
   "outputs": [
    {
     "name": "stdout",
     "output_type": "stream",
     "text": [
      "46750.0\n"
     ]
    }
   ],
   "source": [
    "print(laptop.discount(15))"
   ]
  },
  {
   "cell_type": "code",
   "execution_count": 7,
   "id": "bae4c93d-db1a-4f2f-842e-e16b99b1fcf7",
   "metadata": {},
   "outputs": [],
   "source": [
    "mobile = Product('Mobile', 40000)"
   ]
  },
  {
   "cell_type": "code",
   "execution_count": 9,
   "id": "f78afc51-61e0-4a51-a393-d9aa4c25a33d",
   "metadata": {},
   "outputs": [
    {
     "name": "stdout",
     "output_type": "stream",
     "text": [
      "40000\n"
     ]
    }
   ],
   "source": [
    "print(mobile.price)"
   ]
  },
  {
   "cell_type": "code",
   "execution_count": 11,
   "id": "0e0d66f3-6f23-408c-a435-66e0344c358d",
   "metadata": {},
   "outputs": [
    {
     "name": "stdout",
     "output_type": "stream",
     "text": [
      "36000.0\n"
     ]
    }
   ],
   "source": [
    "print(mobile.discount(10))"
   ]
  },
  {
   "cell_type": "code",
   "execution_count": null,
   "id": "60c791a4-3317-427f-892d-bd1541dd4d95",
   "metadata": {},
   "outputs": [],
   "source": []
  }
 ],
 "metadata": {
  "kernelspec": {
   "display_name": "Python 3 (ipykernel)",
   "language": "python",
   "name": "python3"
  },
  "language_info": {
   "codemirror_mode": {
    "name": "ipython",
    "version": 3
   },
   "file_extension": ".py",
   "mimetype": "text/x-python",
   "name": "python",
   "nbconvert_exporter": "python",
   "pygments_lexer": "ipython3",
   "version": "3.12.4"
  }
 },
 "nbformat": 4,
 "nbformat_minor": 5
}
