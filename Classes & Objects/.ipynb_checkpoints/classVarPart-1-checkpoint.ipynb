{
 "cells": [
  {
   "cell_type": "code",
   "execution_count": 2,
   "id": "14270e20-b79d-4141-b502-527ceada1faa",
   "metadata": {},
   "outputs": [],
   "source": [
    "class Laptop:\n",
    "    def __init__(self, name, price):\n",
    "        self.name = name\n",
    "        self.price = price"
   ]
  },
  {
   "cell_type": "code",
   "execution_count": 4,
   "id": "d9c389d3-0660-44db-a5c1-c3a3180a9525",
   "metadata": {},
   "outputs": [],
   "source": [
    "m6600 = Laptop('m6600', 55000)\n",
    "m4800 = Laptop('m4800', 55000)"
   ]
  },
  {
   "cell_type": "code",
   "execution_count": 6,
   "id": "3df1a71f-2207-47b1-9e9b-9ec5efe50479",
   "metadata": {},
   "outputs": [
    {
     "name": "stdout",
     "output_type": "stream",
     "text": [
      "{'name': 'm4800', 'price': 55000}\n"
     ]
    }
   ],
   "source": [
    "print(m4800.__dict__)"
   ]
  },
  {
   "cell_type": "code",
   "execution_count": 8,
   "id": "6506a449-867d-4aa2-9d15-3dae17d50032",
   "metadata": {},
   "outputs": [],
   "source": [
    "m4800.bluetooth = 'yes'"
   ]
  },
  {
   "cell_type": "code",
   "execution_count": 10,
   "id": "61b9497c-27a1-4af1-9dc1-38d1fe6953c4",
   "metadata": {},
   "outputs": [
    {
     "name": "stdout",
     "output_type": "stream",
     "text": [
      "{'name': 'm4800', 'price': 55000, 'bluetooth': 'yes'}\n"
     ]
    }
   ],
   "source": [
    "print(m4800.__dict__)"
   ]
  },
  {
   "cell_type": "code",
   "execution_count": null,
   "id": "0c76d85c-484e-47bd-a90d-a197674db37d",
   "metadata": {},
   "outputs": [],
   "source": []
  }
 ],
 "metadata": {
  "kernelspec": {
   "display_name": "Python 3 (ipykernel)",
   "language": "python",
   "name": "python3"
  },
  "language_info": {
   "codemirror_mode": {
    "name": "ipython",
    "version": 3
   },
   "file_extension": ".py",
   "mimetype": "text/x-python",
   "name": "python",
   "nbconvert_exporter": "python",
   "pygments_lexer": "ipython3",
   "version": "3.12.4"
  }
 },
 "nbformat": 4,
 "nbformat_minor": 5
}
