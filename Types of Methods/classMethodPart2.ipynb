{
 "cells": [
  {
   "cell_type": "code",
   "execution_count": 14,
   "id": "8f95f75f-eee9-42c9-8736-0026ccc88db0",
   "metadata": {},
   "outputs": [],
   "source": [
    "class Laptop:\n",
    "    discount = 10\n",
    "\n",
    "    def __init__(self, name, price):\n",
    "        self.name = name\n",
    "        self.price = price\n",
    "\n",
    "    @classmethod\n",
    "    def from_string(cls, string):\n",
    "        import re\n",
    "        item = re.findall(r'is \\w*', string)\n",
    "        name = item[0][3:]\n",
    "        price = item[1][3:]\n",
    "        return cls(name, int(price))\n",
    "\n",
    "    def applyDiscount(self):\n",
    "        discountAmount = (self.price / 100) * self.discount\n",
    "        final_amount = self.price - discountAmount\n",
    "        return int(final_amount)"
   ]
  },
  {
   "cell_type": "code",
   "execution_count": 18,
   "id": "fdae83c5-fb9c-4bd8-8e6a-1ab9e2df8546",
   "metadata": {},
   "outputs": [],
   "source": [
    "m6600 = Laptop(\"m6600\", 55000)\n",
    "\n"
   ]
  },
  {
   "cell_type": "code",
   "execution_count": 20,
   "id": "90a13d33-7691-4a49-8537-07c9f7e876d6",
   "metadata": {},
   "outputs": [
    {
     "name": "stdout",
     "output_type": "stream",
     "text": [
      "{'name': 'm6600', 'price': 55000}\n",
      "49500\n"
     ]
    }
   ],
   "source": [
    "print(m6600.__dict__)\n",
    "print(m6600.applyDiscount())"
   ]
  },
  {
   "cell_type": "code",
   "execution_count": 24,
   "id": "747ef408-fd33-42c8-8d77-6fa4fa833021",
   "metadata": {},
   "outputs": [
    {
     "name": "stdout",
     "output_type": "stream",
     "text": [
      "{'name': 'm4800', 'price': 60000}\n"
     ]
    }
   ],
   "source": [
    "m4800 = Laptop.from_string(\"my laptop name is m4800 and price is 60000\")\n",
    "print(m4800.__dict__)"
   ]
  },
  {
   "cell_type": "code",
   "execution_count": null,
   "id": "d76b0dd6-9be2-49ed-af63-791a577f0535",
   "metadata": {},
   "outputs": [],
   "source": []
  }
 ],
 "metadata": {
  "kernelspec": {
   "display_name": "Python 3 (ipykernel)",
   "language": "python",
   "name": "python3"
  },
  "language_info": {
   "codemirror_mode": {
    "name": "ipython",
    "version": 3
   },
   "file_extension": ".py",
   "mimetype": "text/x-python",
   "name": "python",
   "nbconvert_exporter": "python",
   "pygments_lexer": "ipython3",
   "version": "3.12.4"
  }
 },
 "nbformat": 4,
 "nbformat_minor": 5
}
