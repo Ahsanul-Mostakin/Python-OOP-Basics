{
 "cells": [
  {
   "cell_type": "code",
   "execution_count": 1,
   "id": "ef78f5d9-aaa3-4cac-8644-04b5d4b07dd0",
   "metadata": {},
   "outputs": [],
   "source": [
    "class Date:\n",
    "    def __init__(self, year, month, day):\n",
    "        self.year = year\n",
    "        self.month = month\n",
    "        self.day = day\n",
    "\n",
    "    def arrange_value_into_Date_pattern(self):\n",
    "        date = str(self.day) + \"-\" + str(self.month) + \"-\" + str(self.year)\n",
    "        return date\n",
    "\n",
    "    @classmethod\n",
    "    def getDataformString(cls, string):\n",
    "        import re\n",
    "        data = re.findall(r'\\d{2}-\\d{2}-\\d{4}|\\d{2}/\\d{2}/\\d{4}', string)[0]  # 17/06/2022\n",
    "        list_date = data.replace('/', '-').split('-')\n",
    "        print(list_date)\n",
    "\n",
    "        day = list_date[0]\n",
    "        month = list_date[1]\n",
    "        year = list_date[2]\n",
    "        return cls(year, month, day)"
   ]
  },
  {
   "cell_type": "code",
   "execution_count": 3,
   "id": "dc3e9a83-07ac-4a4b-bb2d-341eb85ff5c0",
   "metadata": {},
   "outputs": [],
   "source": [
    "date1 = Date(2022, 6, 17)"
   ]
  },
  {
   "cell_type": "code",
   "execution_count": 5,
   "id": "4e7a2d61-e045-4c8b-b594-1eaaadde38e9",
   "metadata": {},
   "outputs": [
    {
     "name": "stdout",
     "output_type": "stream",
     "text": [
      "{'year': 2022, 'month': 6, 'day': 17}\n",
      "17-6-2022\n"
     ]
    }
   ],
   "source": [
    "print(date1.__dict__)  # Outputs the dictionary representation of the instance\n",
    "print(date1.arrange_value_into_Date_pattern())  # Outputs '17-6-2022'"
   ]
  },
  {
   "cell_type": "code",
   "execution_count": 7,
   "id": "f3b69aa0-9cb7-457a-8a7a-512a068bd1e1",
   "metadata": {},
   "outputs": [
    {
     "name": "stdout",
     "output_type": "stream",
     "text": [
      "17-6-2022\n"
     ]
    }
   ],
   "source": [
    "date1 = Date(2022, 6, 17)\n",
    "print(date1.arrange_value_into_Date_pattern())  # Outputs '17-6-2022'\n"
   ]
  },
  {
   "cell_type": "code",
   "execution_count": 9,
   "id": "5474b419-5d3c-4b3b-b065-b0311bc3977b",
   "metadata": {},
   "outputs": [
    {
     "name": "stdout",
     "output_type": "stream",
     "text": [
      "['17', '06', '2022']\n",
      "{'year': '2022', 'month': '06', 'day': '17'}\n"
     ]
    }
   ],
   "source": [
    "date2 = Date.getDataformString('today date is 17-06-2022')\n",
    "print(date2.__dict__)  # Outputs {'year': '2022', 'month': '06', 'day': '17'}"
   ]
  },
  {
   "cell_type": "code",
   "execution_count": null,
   "id": "bab68d30-8769-4cab-b21a-782d26b6fd4e",
   "metadata": {},
   "outputs": [],
   "source": []
  }
 ],
 "metadata": {
  "kernelspec": {
   "display_name": "Python 3 (ipykernel)",
   "language": "python",
   "name": "python3"
  },
  "language_info": {
   "codemirror_mode": {
    "name": "ipython",
    "version": 3
   },
   "file_extension": ".py",
   "mimetype": "text/x-python",
   "name": "python",
   "nbconvert_exporter": "python",
   "pygments_lexer": "ipython3",
   "version": "3.12.4"
  }
 },
 "nbformat": 4,
 "nbformat_minor": 5
}
