{
 "cells": [
  {
   "cell_type": "code",
   "execution_count": 25,
   "id": "a4c4fb2d-5b8a-407b-8192-e612967ba6ba",
   "metadata": {},
   "outputs": [],
   "source": [
    "class Laptop:\n",
    "    discount = 10\n",
    "\n",
    "    def __init__(self, name, price):\n",
    "        self.name = name\n",
    "        self.price = price\n",
    "\n",
    "    def applydiscount(self):\n",
    "        discountAmount = (self.price / 100) * self.discount\n",
    "        final_amount = self.price - discountAmount\n",
    "        return int(final_amount)\n"
   ]
  },
  {
   "cell_type": "code",
   "execution_count": 27,
   "id": "c74da4d0-6912-411f-9a4c-0f1a6ca1f1e4",
   "metadata": {},
   "outputs": [],
   "source": [
    "m6600 = Laptop(\"m6600\", 55000)"
   ]
  },
  {
   "cell_type": "code",
   "execution_count": 29,
   "id": "2517daed-709e-4583-bfc0-b59a58cdc1de",
   "metadata": {},
   "outputs": [
    {
     "data": {
      "text/plain": [
       "{'name': 'm6600', 'price': 55000}"
      ]
     },
     "execution_count": 29,
     "metadata": {},
     "output_type": "execute_result"
    }
   ],
   "source": [
    "m6600.__dict__"
   ]
  },
  {
   "cell_type": "code",
   "execution_count": 31,
   "id": "dcc07638-a349-4283-8268-7652f3c257af",
   "metadata": {},
   "outputs": [
    {
     "data": {
      "text/plain": [
       "49500"
      ]
     },
     "execution_count": 31,
     "metadata": {},
     "output_type": "execute_result"
    }
   ],
   "source": [
    "m6600.applydiscount()"
   ]
  },
  {
   "cell_type": "code",
   "execution_count": null,
   "id": "a437a853-2071-4827-b5af-9350b2e58e03",
   "metadata": {},
   "outputs": [],
   "source": []
  }
 ],
 "metadata": {
  "kernelspec": {
   "display_name": "Python 3 (ipykernel)",
   "language": "python",
   "name": "python3"
  },
  "language_info": {
   "codemirror_mode": {
    "name": "ipython",
    "version": 3
   },
   "file_extension": ".py",
   "mimetype": "text/x-python",
   "name": "python",
   "nbconvert_exporter": "python",
   "pygments_lexer": "ipython3",
   "version": "3.12.4"
  }
 },
 "nbformat": 4,
 "nbformat_minor": 5
}
