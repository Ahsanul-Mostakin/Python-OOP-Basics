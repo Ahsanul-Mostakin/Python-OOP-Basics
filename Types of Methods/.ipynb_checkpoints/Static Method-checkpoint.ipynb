{
 "cells": [
  {
   "cell_type": "code",
   "execution_count": 1,
   "id": "adb63e98-c5a1-4418-82cc-5987f5d32d7d",
   "metadata": {},
   "outputs": [],
   "source": [
    "class Student:\n",
    "    def __init__(self, name, age):\n",
    "        self.name = name\n",
    "        self.age = age\n",
    "\n",
    "    @staticmethod\n",
    "    def printstatement():\n",
    "        print(\"this is static method\")"
   ]
  },
  {
   "cell_type": "code",
   "execution_count": 3,
   "id": "2758f6d0-29fc-4113-aa14-f13709d1614c",
   "metadata": {},
   "outputs": [],
   "source": [
    "s1 = Student('Sohail', 24)"
   ]
  },
  {
   "cell_type": "code",
   "execution_count": 5,
   "id": "b24d3e3e-9be6-46be-b271-76817516309c",
   "metadata": {},
   "outputs": [
    {
     "name": "stdout",
     "output_type": "stream",
     "text": [
      "{'name': 'Sohail', 'age': 24}\n"
     ]
    }
   ],
   "source": [
    "print(s1.__dict__)"
   ]
  },
  {
   "cell_type": "code",
   "execution_count": 7,
   "id": "8bf0e954-dc37-4a8d-8e84-1d3376cfb74c",
   "metadata": {},
   "outputs": [
    {
     "name": "stdout",
     "output_type": "stream",
     "text": [
      "this is static method\n"
     ]
    }
   ],
   "source": [
    "s1.printstatement()"
   ]
  },
  {
   "cell_type": "code",
   "execution_count": null,
   "id": "d015da59-547a-4547-be03-430f9f37e760",
   "metadata": {},
   "outputs": [],
   "source": []
  }
 ],
 "metadata": {
  "kernelspec": {
   "display_name": "Python 3 (ipykernel)",
   "language": "python",
   "name": "python3"
  },
  "language_info": {
   "codemirror_mode": {
    "name": "ipython",
    "version": 3
   },
   "file_extension": ".py",
   "mimetype": "text/x-python",
   "name": "python",
   "nbconvert_exporter": "python",
   "pygments_lexer": "ipython3",
   "version": "3.12.4"
  }
 },
 "nbformat": 4,
 "nbformat_minor": 5
}
