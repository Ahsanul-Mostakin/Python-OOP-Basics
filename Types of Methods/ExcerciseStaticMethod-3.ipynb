{
 "cells": [
  {
   "cell_type": "code",
   "execution_count": 3,
   "id": "cadaffc3-3f7f-4d9a-a4c2-1adc077fbf2e",
   "metadata": {},
   "outputs": [],
   "source": [
    "class Date:\n",
    "    def __init__(self, year, month, day):\n",
    "        # Constructor / Init Method\n",
    "        self.year = year\n",
    "        self.month = month\n",
    "        self.day = day\n",
    "\n",
    "    def arrange_value_into_Date_pattern(self):\n",
    "        # Instance Method\n",
    "        date = str(self.day) + '-' + str(self.month) + '-' + str(self.year)\n",
    "        return date\n",
    "\n",
    "    @classmethod\n",
    "    def getDataformString(cls, string):\n",
    "        # Class method\n",
    "        import re\n",
    "        data = re.findall(r'\\d{2}-\\d{2}-\\d{4}|\\d{2}/\\d{2}/\\d{4}', string)[0]  # 17/06/2022\n",
    "        list_date = data.replace('/', '-').split('-')\n",
    "        day = list_date[0]\n",
    "        month = list_date[1]\n",
    "        year = list_date[2]\n",
    "        return cls(year, month, day)\n",
    "\n",
    "    @staticmethod\n",
    "    def setDatePattern(string):\n",
    "        list1 = string.replace('/', '-').split('-')\n",
    "        print(list1)\n",
    "        date_update = list1[2] + '-' + list1[1] + '-' + list1[0]\n",
    "        return date_update\n"
   ]
  },
  {
   "cell_type": "code",
   "execution_count": 5,
   "id": "be4258d6-e1f1-41d7-94f7-ed29e91f52d3",
   "metadata": {},
   "outputs": [],
   "source": [
    "date1 = Date(2022, 6, 17)"
   ]
  },
  {
   "cell_type": "code",
   "execution_count": 7,
   "id": "96c070be-30e8-4b28-9e5a-31a0ed069427",
   "metadata": {},
   "outputs": [
    {
     "name": "stdout",
     "output_type": "stream",
     "text": [
      "{'year': 2022, 'month': 6, 'day': 17}\n",
      "17-6-2022\n"
     ]
    }
   ],
   "source": [
    "print(date1.__dict__)  # Outputs the dictionary representation of the instance\n",
    "print(date1.arrange_value_into_Date_pattern())  # Outputs '17-6-2022'"
   ]
  },
  {
   "cell_type": "code",
   "execution_count": 9,
   "id": "4ea13159-76dc-4871-a220-a184db514e5a",
   "metadata": {},
   "outputs": [
    {
     "name": "stdout",
     "output_type": "stream",
     "text": [
      "17-6-2022\n"
     ]
    }
   ],
   "source": [
    "date1 = Date(2022, 6, 17)\n",
    "print(date1.arrange_value_into_Date_pattern())  # Outputs '17-6-2022'"
   ]
  },
  {
   "cell_type": "code",
   "execution_count": 11,
   "id": "d9143009-a810-444b-a1e3-6d73f1abb9bf",
   "metadata": {},
   "outputs": [
    {
     "name": "stdout",
     "output_type": "stream",
     "text": [
      "{'year': '2022', 'month': '06', 'day': '17'}\n"
     ]
    }
   ],
   "source": [
    "date2 = Date.getDataformString('today date is 17-06-2022')\n",
    "print(date2.__dict__)  # Outputs {'year': '2022', 'month': '06', 'day': '17'}"
   ]
  },
  {
   "cell_type": "code",
   "execution_count": 15,
   "id": "a983579c-dd74-49a1-a198-80bc9fc54440",
   "metadata": {},
   "outputs": [
    {
     "name": "stdout",
     "output_type": "stream",
     "text": [
      "['2024', '11', '20']\n"
     ]
    },
    {
     "data": {
      "text/plain": [
       "'20-11-2024'"
      ]
     },
     "execution_count": 15,
     "metadata": {},
     "output_type": "execute_result"
    }
   ],
   "source": [
    "Date.setDatePattern('2024-11-20')\n"
   ]
  },
  {
   "cell_type": "code",
   "execution_count": null,
   "id": "3363cf1c-2b40-41a6-b842-e9120d68e2c5",
   "metadata": {},
   "outputs": [],
   "source": []
  }
 ],
 "metadata": {
  "kernelspec": {
   "display_name": "Python 3 (ipykernel)",
   "language": "python",
   "name": "python3"
  },
  "language_info": {
   "codemirror_mode": {
    "name": "ipython",
    "version": 3
   },
   "file_extension": ".py",
   "mimetype": "text/x-python",
   "name": "python",
   "nbconvert_exporter": "python",
   "pygments_lexer": "ipython3",
   "version": "3.12.4"
  }
 },
 "nbformat": 4,
 "nbformat_minor": 5
}
