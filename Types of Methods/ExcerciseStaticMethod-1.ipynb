{
 "cells": [
  {
   "cell_type": "code",
   "execution_count": 7,
   "id": "4810b81e-e916-458e-88d3-d1b063c20309",
   "metadata": {},
   "outputs": [],
   "source": [
    "class Date:\n",
    "    def __init__(self, year, month, day):  # Constructor / Init Method\n",
    "        self.year = year\n",
    "        self.month = month\n",
    "        self.day = day\n",
    "\n",
    "    def arrange_value_into_Date_pattern(self):  # Instance Method\n",
    "        date = str(self.day) + '-' + str(self.month) + '-' + str(self.year)\n",
    "        return date\n"
   ]
  },
  {
   "cell_type": "code",
   "execution_count": 9,
   "id": "1313d51d-1f60-4f50-a066-c023ce814034",
   "metadata": {},
   "outputs": [],
   "source": [
    "date1 = Date(2022, 6, 17)"
   ]
  },
  {
   "cell_type": "code",
   "execution_count": 11,
   "id": "6e449539-b400-4662-a277-031f5284d60c",
   "metadata": {},
   "outputs": [
    {
     "name": "stdout",
     "output_type": "stream",
     "text": [
      "{'year': 2022, 'month': 6, 'day': 17}\n",
      "17-6-2022\n"
     ]
    }
   ],
   "source": [
    "print(date1.__dict__)  # Outputs the dictionary representation of the instance\n",
    "print(date1.arrange_value_into_Date_pattern())  # Outputs '17-6-2022'"
   ]
  },
  {
   "cell_type": "code",
   "execution_count": null,
   "id": "69552d13-ff97-42a0-9079-e47ee5fda27b",
   "metadata": {},
   "outputs": [],
   "source": []
  }
 ],
 "metadata": {
  "kernelspec": {
   "display_name": "Python 3 (ipykernel)",
   "language": "python",
   "name": "python3"
  },
  "language_info": {
   "codemirror_mode": {
    "name": "ipython",
    "version": 3
   },
   "file_extension": ".py",
   "mimetype": "text/x-python",
   "name": "python",
   "nbconvert_exporter": "python",
   "pygments_lexer": "ipython3",
   "version": "3.12.4"
  }
 },
 "nbformat": 4,
 "nbformat_minor": 5
}
